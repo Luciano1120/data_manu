{
 "cells": [
  {
   "cell_type": "markdown",
   "metadata": {},
   "source": [
    "#  pruebo visualizacion con archivo de pickle"
   ]
  },
  {
   "cell_type": "code",
   "execution_count": null,
   "metadata": {},
   "outputs": [],
   "source": [
    "\n",
    "\n",
    "import pandas as pd\n",
    "\n",
    "df= pd.read_pickle(r'C:\\Users\\lucia\\Downloads\\pruebaDataset.pkl')\n",
    "df.head(10)\n"
   ]
  },
  {
   "cell_type": "markdown",
   "metadata": {},
   "source": [
    "# Importo de Archivo debug.py\n",
    "\n",
    "Ya q desde el Main no se puede. En el Archivo debug.py lo voy copiando del main"
   ]
  },
  {
   "cell_type": "code",
   "execution_count": null,
   "metadata": {},
   "outputs": [],
   "source": [
    "import debug\n",
    "#llamo al archivo debug y su variable dentro q es un json q llama a los datos a traves del nombre del dataset\n",
    "#la carga demora aprox 2'\n",
    "\n",
    "#debug.dataframes[\"df1c\"].head() #ok tira 5 registros\n",
    "debug.dataframes[\"df1c\"]"
   ]
  },
  {
   "cell_type": "code",
   "execution_count": null,
   "metadata": {},
   "outputs": [],
   "source": [
    "import debug\n",
    "#llamo al archivo debug y su variable dentro q es un json q llama a los datos a traves del nombre del dataset\n",
    "#demora aprox 1.30'\n",
    "\n",
    "debug.dfPreg.head(50)"
   ]
  },
  {
   "cell_type": "markdown",
   "metadata": {},
   "source": [
    "## Para debug consolidado"
   ]
  },
  {
   "cell_type": "code",
   "execution_count": 1,
   "metadata": {},
   "outputs": [
    {
     "data": {
      "text/html": [
       "<div>\n",
       "<style scoped>\n",
       "    .dataframe tbody tr th:only-of-type {\n",
       "        vertical-align: middle;\n",
       "    }\n",
       "\n",
       "    .dataframe tbody tr th {\n",
       "        vertical-align: top;\n",
       "    }\n",
       "\n",
       "    .dataframe thead th {\n",
       "        text-align: right;\n",
       "    }\n",
       "</style>\n",
       "<table border=\"1\" class=\"dataframe\">\n",
       "  <thead>\n",
       "    <tr style=\"text-align: right;\">\n",
       "      <th></th>\n",
       "      <th>Ingresos</th>\n",
       "      <th>Estudios</th>\n",
       "      <th>Situacion Laboral</th>\n",
       "      <th>Pais</th>\n",
       "      <th>Edad</th>\n",
       "      <th>¿Has comprado algún otro curso de Emprendelandia?</th>\n",
       "      <th>Fecha</th>\n",
       "      <th>Origen</th>\n",
       "      <th>Conocimiento Importaciones</th>\n",
       "      <th>¿Estudias o te dedicas a las importaciones?</th>\n",
       "      <th>...</th>\n",
       "      <th>Tiempo Disponible en el Dia</th>\n",
       "      <th>Tiempo dispuesto a Invertir Meses</th>\n",
       "      <th>Dinero Extra</th>\n",
       "      <th>Sosten Economico</th>\n",
       "      <th>M_Pais</th>\n",
       "      <th>Ingresos Prom</th>\n",
       "      <th>Ingreso_Calidad</th>\n",
       "      <th>EdadProm</th>\n",
       "      <th>RangoEtario</th>\n",
       "      <th>Situacion Laboral M</th>\n",
       "    </tr>\n",
       "  </thead>\n",
       "  <tbody>\n",
       "  </tbody>\n",
       "</table>\n",
       "<p>0 rows × 32 columns</p>\n",
       "</div>"
      ],
      "text/plain": [
       "Empty DataFrame\n",
       "Columns: [Ingresos, Estudios, Situacion Laboral, Pais, Edad, ¿Has comprado algún otro curso de Emprendelandia?, Fecha, Origen, Conocimiento Importaciones, ¿Estudias o te dedicas a las importaciones?, Cantidad Hijos, ¿Tienes hijos?, ¿Ya has tenido alguna experiencia importando por tu cuenta?, ¿Alguna vez escuchaste el término “Ghost Importer” o sabes a qué se refiere?, ¿Cómo conociste a Valeria o a Emprendelandia?, ¿En que rango de edad se encuentran tus hijos?, Nro Telefono, Interes en Curso, ¿Has escuchado o conoces lo que es la Certificación Ghost Importer?, Email, Ocupacion, ¿Cuánto tiempo trabajas por día en promedio?, Tiempo Disponible en el Dia, Tiempo dispuesto a Invertir Meses, Dinero Extra, Sosten Economico, M_Pais, Ingresos Prom, Ingreso_Calidad, EdadProm, RangoEtario, Situacion Laboral M]\n",
       "Index: []\n",
       "\n",
       "[0 rows x 32 columns]"
      ]
     },
     "execution_count": 1,
     "metadata": {},
     "output_type": "execute_result"
    }
   ],
   "source": [
    "import debug\n",
    "#llamo al archivo debug y su variable dentro q es un json q llama a los datos a traves del nombre del dataset\n",
    "#demora aprox 1:55'\n",
    "\n",
    "debug.df_consolidado.head(50)"
   ]
  },
  {
   "cell_type": "markdown",
   "metadata": {},
   "source": [
    "# Prueba de carga de Datasets"
   ]
  },
  {
   "cell_type": "code",
   "execution_count": 3,
   "metadata": {},
   "outputs": [],
   "source": [
    "from transformaciones.renombraCampos import renombrar_y_filtrar\n",
    "from cargaArchivos import carga_url_gDrive as cd , carga_url_oDrive as co\n",
    "from transformaciones.preguntas import filtroPreg \n",
    "from raw import datasetsEncuestas as de\n",
    "\n",
    "\n",
    "\n",
    "\n",
    "    #cargo archivos de encuestas ya quitando espacios a nombres de columnas\n",
    "dataframes = {}\n",
    "for datasetJs, infoJs in de.items():\n",
    "        \n",
    "        df = co(infoJs[\"url\"], infoJs[\"sheet_name\"])\n",
    "        # Cargar el dataset usando la función carga_url_oDrive\n",
    "        dataframes[datasetJs] = df\n",
    "\n",
    "        "
   ]
  },
  {
   "cell_type": "markdown",
   "metadata": {},
   "source": [
    "## Visualizo Dataset"
   ]
  },
  {
   "cell_type": "code",
   "execution_count": null,
   "metadata": {},
   "outputs": [],
   "source": [
    "\n",
    "dataframes[\"url_1c\"].head()"
   ]
  },
  {
   "cell_type": "code",
   "execution_count": 4,
   "metadata": {},
   "outputs": [],
   "source": [
    "def convert_google_drive_link_to_xlsx(google_drive_link):\n",
    "    # Extraer el ID del documento\n",
    "    file_id = google_drive_link.split('/d/')[1].split('/')[0]\n",
    "\n",
    "    # Formar el enlace para descargar como XLSX\n",
    "    xlsx_url = f\"https://docs.google.com/spreadsheets/d/{file_id}/export?format=xlsx&id={file_id}\"\n",
    "\n",
    "    return xlsx_url"
   ]
  },
  {
   "cell_type": "code",
   "execution_count": 5,
   "metadata": {},
   "outputs": [
    {
     "data": {
      "text/plain": [
       "'https://docs.google.com/spreadsheets/d/16pua61bvzoHFKmI84X1NWEcr4U_1iVHu64Kr-NINbZ0/export?format=xlsx&id=16pua61bvzoHFKmI84X1NWEcr4U_1iVHu64Kr-NINbZ0'"
      ]
     },
     "execution_count": 5,
     "metadata": {},
     "output_type": "execute_result"
    }
   ],
   "source": [
    "convert_google_drive_link_to_xlsx('https://docs.google.com/spreadsheets/d/16pua61bvzoHFKmI84X1NWEcr4U_1iVHu64Kr-NINbZ0/edit?resourcekey=&gid=1871257299#gid=1871257299')"
   ]
  },
  {
   "cell_type": "markdown",
   "metadata": {},
   "source": [
    "# Leer Excel tranformado con algunos cambio"
   ]
  },
  {
   "cell_type": "code",
   "execution_count": null,
   "metadata": {},
   "outputs": [],
   "source": [
    "\n",
    "\n",
    "df= pd.read_excel(r'C:\\Users\\lucia\\OneDrive\\Laboral\\manu\\pruebaDatasetConsol.xlsx')\n",
    "df.head()\n",
    "\n",
    "\n"
   ]
  }
 ],
 "metadata": {
  "kernelspec": {
   "display_name": "Python 3",
   "language": "python",
   "name": "python3"
  },
  "language_info": {
   "codemirror_mode": {
    "name": "ipython",
    "version": 3
   },
   "file_extension": ".py",
   "mimetype": "text/x-python",
   "name": "python",
   "nbconvert_exporter": "python",
   "pygments_lexer": "ipython3",
   "version": "3.10.5"
  }
 },
 "nbformat": 4,
 "nbformat_minor": 2
}
